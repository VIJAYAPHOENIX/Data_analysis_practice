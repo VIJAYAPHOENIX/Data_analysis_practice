{
 "cells": [
  {
   "cell_type": "code",
   "execution_count": 1,
   "id": "f53c3ab4-7270-4abe-aac5-8ba477baaa6c",
   "metadata": {},
   "outputs": [],
   "source": [
    "import numpy as np \n",
    "import pandas as pd\n",
    "from pandas import Series,DataFrame"
   ]
  },
  {
   "cell_type": "code",
   "execution_count": 3,
   "id": "e90d6d57-32dc-4155-8cc5-fdb355cbf37b",
   "metadata": {},
   "outputs": [],
   "source": [
    "years = [1998,2001,1990,1988,1997,2014,2019]"
   ]
  },
  {
   "cell_type": "code",
   "execution_count": 5,
   "id": "b9ca353a-c3c3-4223-bac4-600e1b365a88",
   "metadata": {},
   "outputs": [],
   "source": [
    "decade_bins=[1980,1990,2000,2010,2020]"
   ]
  },
  {
   "cell_type": "code",
   "execution_count": 9,
   "id": "9ad746d2-4ea5-4f1a-8648-68531dd2c13d",
   "metadata": {},
   "outputs": [],
   "source": [
    "decade_cat=pd.cut(years,decade_bins)"
   ]
  },
  {
   "cell_type": "code",
   "execution_count": 11,
   "id": "045d5784-c45f-4dd4-a9d6-8697b36c7a97",
   "metadata": {},
   "outputs": [
    {
     "data": {
      "text/plain": [
       "[(1990, 2000], (2000, 2010], (1980, 1990], (1980, 1990], (1990, 2000], (2010, 2020], (2010, 2020]]\n",
       "Categories (4, interval[int64, right]): [(1980, 1990] < (1990, 2000] < (2000, 2010] < (2010, 2020]]"
      ]
     },
     "execution_count": 11,
     "metadata": {},
     "output_type": "execute_result"
    }
   ],
   "source": [
    "decade_cat"
   ]
  },
  {
   "cell_type": "code",
   "execution_count": 13,
   "id": "c0d58016-685c-4691-9f28-6ba4e0912f55",
   "metadata": {},
   "outputs": [
    {
     "data": {
      "text/plain": [
       "IntervalIndex([(1980, 1990], (1990, 2000], (2000, 2010], (2010, 2020]], dtype='interval[int64, right]')"
      ]
     },
     "execution_count": 13,
     "metadata": {},
     "output_type": "execute_result"
    }
   ],
   "source": [
    "decade_cat.categories"
   ]
  },
  {
   "cell_type": "code",
   "execution_count": 17,
   "id": "5723760d-e058-4c56-8b0e-db5037307627",
   "metadata": {},
   "outputs": [
    {
     "name": "stderr",
     "output_type": "stream",
     "text": [
      "C:\\Users\\kodur\\AppData\\Local\\Temp\\ipykernel_7312\\3082337819.py:1: FutureWarning: pandas.value_counts is deprecated and will be removed in a future version. Use pd.Series(obj).value_counts() instead.\n",
      "  pd.value_counts(decade_cat)\n"
     ]
    },
    {
     "data": {
      "text/plain": [
       "(1980, 1990]    2\n",
       "(1990, 2000]    2\n",
       "(2010, 2020]    2\n",
       "(2000, 2010]    1\n",
       "Name: count, dtype: int64"
      ]
     },
     "execution_count": 17,
     "metadata": {},
     "output_type": "execute_result"
    }
   ],
   "source": [
    "pd.value_counts(decade_cat)"
   ]
  },
  {
   "cell_type": "code",
   "execution_count": 19,
   "id": "a26ee8bc-44db-419b-adc1-6b9258a28834",
   "metadata": {},
   "outputs": [
    {
     "data": {
      "text/plain": [
       "(1980, 1990]    2\n",
       "(1990, 2000]    2\n",
       "(2010, 2020]    2\n",
       "(2000, 2010]    1\n",
       "Name: count, dtype: int64"
      ]
     },
     "execution_count": 19,
     "metadata": {},
     "output_type": "execute_result"
    }
   ],
   "source": [
    "pd.Series(decade_cat).value_counts()"
   ]
  },
  {
   "cell_type": "code",
   "execution_count": 29,
   "id": "942c79ab-3527-4a44-9a66-4eb9e8905bc0",
   "metadata": {},
   "outputs": [
    {
     "data": {
      "text/plain": [
       "[(1988.0, 2004.0], (1988.0, 2004.0], (1988.0, 2004.0], (1988.0, 2004.0], (1988.0, 2004.0], (2004.0, 2019.0], (2004.0, 2019.0]]\n",
       "Categories (2, interval[float64, right]): [(1988.0, 2004.0] < (2004.0, 2019.0]]"
      ]
     },
     "execution_count": 29,
     "metadata": {},
     "output_type": "execute_result"
    }
   ],
   "source": [
    "pd.cut(years,2,precision=0)"
   ]
  },
  {
   "cell_type": "code",
   "execution_count": null,
   "id": "bab8f2c8-0b09-4e8c-8706-ec65893857a8",
   "metadata": {},
   "outputs": [],
   "source": []
  }
 ],
 "metadata": {
  "kernelspec": {
   "display_name": "Python 3 (ipykernel)",
   "language": "python",
   "name": "python3"
  },
  "language_info": {
   "codemirror_mode": {
    "name": "ipython",
    "version": 3
   },
   "file_extension": ".py",
   "mimetype": "text/x-python",
   "name": "python",
   "nbconvert_exporter": "python",
   "pygments_lexer": "ipython3",
   "version": "3.12.4"
  }
 },
 "nbformat": 4,
 "nbformat_minor": 5
}
