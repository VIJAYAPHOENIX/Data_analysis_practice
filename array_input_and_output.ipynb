{
 "cells": [
  {
   "cell_type": "code",
   "execution_count": 1,
   "id": "7777874e-e6f5-45ae-bc89-ed287ed6c073",
   "metadata": {},
   "outputs": [],
   "source": [
    "import numpy as np"
   ]
  },
  {
   "cell_type": "code",
   "execution_count": 3,
   "id": "a9ea4934-d05f-4761-aa53-8b697bb0b1ed",
   "metadata": {},
   "outputs": [],
   "source": [
    "arr = np.arange(5)"
   ]
  },
  {
   "cell_type": "code",
   "execution_count": 9,
   "id": "3c399833-9c8a-473a-822f-0599a81fa644",
   "metadata": {},
   "outputs": [],
   "source": [
    "arr1 = np.arange(-5,5)\n"
   ]
  },
  {
   "cell_type": "code",
   "execution_count": 11,
   "id": "da10513c-4c0b-4347-be5a-8a27c09a70c4",
   "metadata": {},
   "outputs": [],
   "source": [
    "arr2 = np.arange(-4,5)"
   ]
  },
  {
   "cell_type": "code",
   "execution_count": 13,
   "id": "e97b9432-f7b8-4400-93e9-6fc59b959092",
   "metadata": {},
   "outputs": [],
   "source": [
    "np.save('my_arr',arr)"
   ]
  },
  {
   "cell_type": "code",
   "execution_count": 15,
   "id": "607f1e8e-31f8-4a3f-b7e1-f9663e6482de",
   "metadata": {},
   "outputs": [
    {
     "data": {
      "text/plain": [
       "array([0, 1, 2, 3, 4, 5, 6, 7, 8, 9])"
      ]
     },
     "execution_count": 15,
     "metadata": {},
     "output_type": "execute_result"
    }
   ],
   "source": [
    "arr = np.arange(10)\n",
    "arr"
   ]
  },
  {
   "cell_type": "code",
   "execution_count": 17,
   "id": "c13bc968-1ba5-4d75-accf-801c1adc245c",
   "metadata": {},
   "outputs": [
    {
     "data": {
      "text/plain": [
       "array([0, 1, 2, 3, 4])"
      ]
     },
     "execution_count": 17,
     "metadata": {},
     "output_type": "execute_result"
    }
   ],
   "source": [
    "np.load('my_arr.npy')"
   ]
  },
  {
   "cell_type": "code",
   "execution_count": 19,
   "id": "0935af13-786d-4d8b-a853-8b7a8a4abbd0",
   "metadata": {},
   "outputs": [],
   "source": [
    "np.savez('myz.npz',x=arr,y=arr1,z=arr2)"
   ]
  },
  {
   "cell_type": "code",
   "execution_count": 21,
   "id": "e2ed7482-25ae-4cda-9b03-67f3a0c79496",
   "metadata": {},
   "outputs": [],
   "source": [
    "zip = np.load('myz.npz')"
   ]
  },
  {
   "cell_type": "code",
   "execution_count": 25,
   "id": "2ba116bd-0c20-4559-8979-bf4b227841a4",
   "metadata": {},
   "outputs": [
    {
     "data": {
      "text/plain": [
       "array([-5, -4, -3, -2, -1,  0,  1,  2,  3,  4])"
      ]
     },
     "execution_count": 25,
     "metadata": {},
     "output_type": "execute_result"
    }
   ],
   "source": [
    "zip['y']"
   ]
  },
  {
   "cell_type": "code",
   "execution_count": 27,
   "id": "4715be97-5b6a-4081-9fae-e45af5fe49d0",
   "metadata": {},
   "outputs": [
    {
     "data": {
      "text/plain": [
       "array([-4, -3, -2, -1,  0,  1,  2,  3,  4])"
      ]
     },
     "execution_count": 27,
     "metadata": {},
     "output_type": "execute_result"
    }
   ],
   "source": [
    "zip['z']"
   ]
  },
  {
   "cell_type": "code",
   "execution_count": 29,
   "id": "777a44b8-75a2-49a6-a1ae-5bb2e99ca345",
   "metadata": {},
   "outputs": [
    {
     "data": {
      "text/plain": [
       "array([0, 1, 2, 3, 4, 5, 6, 7, 8, 9])"
      ]
     },
     "execution_count": 29,
     "metadata": {},
     "output_type": "execute_result"
    }
   ],
   "source": [
    "zip['x']"
   ]
  },
  {
   "cell_type": "code",
   "execution_count": null,
   "id": "4fd493c3-6cb4-42e2-8859-93d8d7567a51",
   "metadata": {},
   "outputs": [],
   "source": []
  }
 ],
 "metadata": {
  "kernelspec": {
   "display_name": "Python 3 (ipykernel)",
   "language": "python",
   "name": "python3"
  },
  "language_info": {
   "codemirror_mode": {
    "name": "ipython",
    "version": 3
   },
   "file_extension": ".py",
   "mimetype": "text/x-python",
   "name": "python",
   "nbconvert_exporter": "python",
   "pygments_lexer": "ipython3",
   "version": "3.12.4"
  }
 },
 "nbformat": 4,
 "nbformat_minor": 5
}
