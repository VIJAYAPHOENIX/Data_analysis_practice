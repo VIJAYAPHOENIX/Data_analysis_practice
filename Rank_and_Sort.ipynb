{
 "cells": [
  {
   "cell_type": "code",
   "execution_count": 1,
   "id": "a9c051d1-198f-4db1-8ca5-1edd3821139f",
   "metadata": {},
   "outputs": [],
   "source": [
    "import numpy as np\n",
    "\n",
    "import pandas as pd\n",
    "\n",
    "from pandas import Series,DataFrame"
   ]
  },
  {
   "cell_type": "code",
   "execution_count": 3,
   "id": "7ec3c553-07b6-4542-82fd-e8c2c474ee1a",
   "metadata": {},
   "outputs": [
    {
     "data": {
      "text/plain": [
       "C    0\n",
       "A    1\n",
       "B    2\n",
       "dtype: int64"
      ]
     },
     "execution_count": 3,
     "metadata": {},
     "output_type": "execute_result"
    }
   ],
   "source": [
    "ser1=Series(range(3),index=['C','A','B'])\n",
    "ser1"
   ]
  },
  {
   "cell_type": "code",
   "execution_count": 5,
   "id": "22a8cdd5-d6ad-411b-ae5f-bbb3154d2877",
   "metadata": {},
   "outputs": [
    {
     "data": {
      "text/plain": [
       "A    1\n",
       "B    2\n",
       "C    0\n",
       "dtype: int64"
      ]
     },
     "execution_count": 5,
     "metadata": {},
     "output_type": "execute_result"
    }
   ],
   "source": [
    "ser1.sort_index()"
   ]
  },
  {
   "cell_type": "code",
   "execution_count": 37,
   "id": "0b898886-9f5e-441e-bc5d-d1f0042821d7",
   "metadata": {},
   "outputs": [
    {
     "data": {
      "text/plain": [
       "C    0\n",
       "A    1\n",
       "B    2\n",
       "dtype: int64"
      ]
     },
     "execution_count": 37,
     "metadata": {},
     "output_type": "execute_result"
    }
   ],
   "source": [
    "ser1.sort_values()"
   ]
  },
  {
   "cell_type": "code",
   "execution_count": 9,
   "id": "1713fdd2-1e45-441b-bcd1-412224413b5a",
   "metadata": {},
   "outputs": [],
   "source": [
    "from numpy.random import randn"
   ]
  },
  {
   "cell_type": "code",
   "execution_count": 13,
   "id": "23fde50e-2986-46ac-aedd-b97710f41673",
   "metadata": {},
   "outputs": [
    {
     "data": {
      "text/plain": [
       "0   -0.528739\n",
       "1   -1.162974\n",
       "2   -1.130899\n",
       "3    1.327724\n",
       "4    1.611939\n",
       "5   -0.720422\n",
       "6    2.160531\n",
       "7   -0.263838\n",
       "8    1.161372\n",
       "9    1.013887\n",
       "dtype: float64"
      ]
     },
     "execution_count": 13,
     "metadata": {},
     "output_type": "execute_result"
    }
   ],
   "source": [
    "ser2 = Series(randn(10))\n",
    "ser2"
   ]
  },
  {
   "cell_type": "code",
   "execution_count": 17,
   "id": "7fe51b7d-6f0d-4513-9f3e-be8a6b6d5416",
   "metadata": {},
   "outputs": [
    {
     "data": {
      "text/plain": [
       "1   -1.162974\n",
       "2   -1.130899\n",
       "5   -0.720422\n",
       "0   -0.528739\n",
       "7   -0.263838\n",
       "9    1.013887\n",
       "8    1.161372\n",
       "3    1.327724\n",
       "4    1.611939\n",
       "6    2.160531\n",
       "dtype: float64"
      ]
     },
     "execution_count": 17,
     "metadata": {},
     "output_type": "execute_result"
    }
   ],
   "source": [
    "ser2.sort_values()"
   ]
  },
  {
   "cell_type": "code",
   "execution_count": 21,
   "id": "329443d7-5cb1-4640-896f-e4b4be79a00a",
   "metadata": {},
   "outputs": [
    {
     "data": {
      "text/plain": [
       "0     4\n",
       "1     1\n",
       "2     2\n",
       "3     8\n",
       "4     9\n",
       "5     3\n",
       "6    10\n",
       "7     5\n",
       "8     7\n",
       "9     6\n",
       "dtype: int64"
      ]
     },
     "execution_count": 21,
     "metadata": {},
     "output_type": "execute_result"
    }
   ],
   "source": [
    "ser2.rank().astype('int64')"
   ]
  },
  {
   "cell_type": "code",
   "execution_count": 23,
   "id": "08a2181b-cb00-4f32-b3b1-50ea5bc580dd",
   "metadata": {},
   "outputs": [
    {
     "data": {
      "text/plain": [
       "0    0.878206\n",
       "1   -0.334301\n",
       "2   -0.387759\n",
       "3   -0.738890\n",
       "4   -0.418114\n",
       "5    0.750198\n",
       "6   -0.231187\n",
       "7   -0.634199\n",
       "8   -0.664769\n",
       "9    0.268184\n",
       "dtype: float64"
      ]
     },
     "execution_count": 23,
     "metadata": {},
     "output_type": "execute_result"
    }
   ],
   "source": [
    "ser3 = Series(randn(10))\n",
    "ser3"
   ]
  },
  {
   "cell_type": "code",
   "execution_count": 25,
   "id": "a1e81dc6-18ba-42a3-ab63-9de51f99cef0",
   "metadata": {},
   "outputs": [
    {
     "data": {
      "text/plain": [
       "0    10\n",
       "1     6\n",
       "2     5\n",
       "3     1\n",
       "4     4\n",
       "5     9\n",
       "6     7\n",
       "7     3\n",
       "8     2\n",
       "9     8\n",
       "dtype: int64"
      ]
     },
     "execution_count": 25,
     "metadata": {},
     "output_type": "execute_result"
    }
   ],
   "source": [
    "ser3.rank().astype('int64')"
   ]
  },
  {
   "cell_type": "code",
   "execution_count": 43,
   "id": "44bb7600-4cc2-4da3-8ad4-9bdda54aef0d",
   "metadata": {},
   "outputs": [
    {
     "data": {
      "text/plain": [
       "0    10.0\n",
       "1     6.0\n",
       "2     5.0\n",
       "3     1.0\n",
       "4     4.0\n",
       "5     9.0\n",
       "6     7.0\n",
       "7     3.0\n",
       "8     2.0\n",
       "9     8.0\n",
       "dtype: float64"
      ]
     },
     "execution_count": 43,
     "metadata": {},
     "output_type": "execute_result"
    }
   ],
   "source": [
    "ser3.sort_values()\n",
    "ser3.rank(ascending=True)"
   ]
  },
  {
   "cell_type": "code",
   "execution_count": null,
   "id": "cca06b97-a03f-417a-becf-0f607bb9e169",
   "metadata": {},
   "outputs": [],
   "source": []
  }
 ],
 "metadata": {
  "kernelspec": {
   "display_name": "Python 3 (ipykernel)",
   "language": "python",
   "name": "python3"
  },
  "language_info": {
   "codemirror_mode": {
    "name": "ipython",
    "version": 3
   },
   "file_extension": ".py",
   "mimetype": "text/x-python",
   "name": "python",
   "nbconvert_exporter": "python",
   "pygments_lexer": "ipython3",
   "version": "3.12.4"
  }
 },
 "nbformat": 4,
 "nbformat_minor": 5
}
