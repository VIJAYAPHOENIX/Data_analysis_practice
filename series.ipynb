{
 "cells": [
  {
   "cell_type": "code",
   "execution_count": 1,
   "id": "c7a554c9-88fa-4acf-8175-8d7477a53208",
   "metadata": {},
   "outputs": [],
   "source": [
    "import numpy as np\n",
    "\n",
    "import pandas as pd\n",
    "\n",
    "from pandas import Series,DataFrame"
   ]
  },
  {
   "cell_type": "code",
   "execution_count": 3,
   "id": "fd6d1f04-096d-4522-bcb4-0aec4a17e3dd",
   "metadata": {},
   "outputs": [
    {
     "data": {
      "text/plain": [
       "0    1\n",
       "1    2\n",
       "2    3\n",
       "3    4\n",
       "4    5\n",
       "5    6\n",
       "6    7\n",
       "7    8\n",
       "dtype: int64"
      ]
     },
     "execution_count": 3,
     "metadata": {},
     "output_type": "execute_result"
    }
   ],
   "source": [
    "obj = Series([1,2,3,4,5,6,7,8])\n",
    "obj"
   ]
  },
  {
   "cell_type": "code",
   "execution_count": 5,
   "id": "f9abf8ae-d54b-4b50-9a63-5b41dd2374e8",
   "metadata": {},
   "outputs": [
    {
     "data": {
      "text/plain": [
       "array([1, 2, 3, 4, 5, 6, 7, 8], dtype=int64)"
      ]
     },
     "execution_count": 5,
     "metadata": {},
     "output_type": "execute_result"
    }
   ],
   "source": [
    "obj.values"
   ]
  },
  {
   "cell_type": "code",
   "execution_count": 7,
   "id": "fd5047b9-4cb2-4952-b1e3-0fcbeed0d178",
   "metadata": {},
   "outputs": [
    {
     "data": {
      "text/plain": [
       "RangeIndex(start=0, stop=8, step=1)"
      ]
     },
     "execution_count": 7,
     "metadata": {},
     "output_type": "execute_result"
    }
   ],
   "source": [
    "obj.index"
   ]
  },
  {
   "cell_type": "code",
   "execution_count": 9,
   "id": "10058639-125d-43db-b656-47c7edc0c00e",
   "metadata": {},
   "outputs": [
    {
     "data": {
      "text/plain": [
       "G.Manikanta(mammu)    2281151018\n",
       "G.prudivi             2281151019\n",
       "G.Vijaya_Durga_Rao    2281151020\n",
       "G.Tirumala            2281151021\n",
       "dtype: int64"
      ]
     },
     "execution_count": 9,
     "metadata": {},
     "output_type": "execute_result"
    }
   ],
   "source": [
    "hall_ticket = Series([2281151018,2281151019,2281151020,2281151021],index=['G.Manikanta(mammu)','G.prudivi','G.Vijaya_Durga_Rao','G.Tirumala'])\n",
    "hall_ticket"
   ]
  },
  {
   "cell_type": "code",
   "execution_count": 11,
   "id": "6f5e6f6f-b2f9-431f-8858-b466e920ac47",
   "metadata": {},
   "outputs": [
    {
     "data": {
      "text/plain": [
       "2281151020"
      ]
     },
     "execution_count": 11,
     "metadata": {},
     "output_type": "execute_result"
    }
   ],
   "source": [
    "hall_ticket['G.Vijaya_Durga_Rao']"
   ]
  },
  {
   "cell_type": "code",
   "execution_count": 13,
   "id": "fc007b4c-a539-4219-b64b-241786067d49",
   "metadata": {},
   "outputs": [
    {
     "data": {
      "text/plain": [
       "G.Manikanta(mammu)    2281151018\n",
       "G.prudivi             2281151019\n",
       "G.Vijaya_Durga_Rao    2281151020\n",
       "G.Tirumala            2281151021\n",
       "dtype: int64"
      ]
     },
     "execution_count": 13,
     "metadata": {},
     "output_type": "execute_result"
    }
   ],
   "source": [
    "hall_ticket[hall_ticket>2281151010]"
   ]
  },
  {
   "cell_type": "code",
   "execution_count": 15,
   "id": "f201626e-5dc5-4128-94c9-017ab61d0e37",
   "metadata": {},
   "outputs": [
    {
     "data": {
      "text/plain": [
       "True"
      ]
     },
     "execution_count": 15,
     "metadata": {},
     "output_type": "execute_result"
    }
   ],
   "source": [
    "# checking whether the name in the series \n",
    "'G.Manikanta(mammu)' in hall_ticket"
   ]
  },
  {
   "cell_type": "code",
   "execution_count": 17,
   "id": "bd95fd74-e073-426d-9a61-932aa8076feb",
   "metadata": {},
   "outputs": [
    {
     "data": {
      "text/plain": [
       "{'G.Manikanta(mammu)': 2281151018,\n",
       " 'G.prudivi': 2281151019,\n",
       " 'G.Vijaya_Durga_Rao': 2281151020,\n",
       " 'G.Tirumala': 2281151021}"
      ]
     },
     "execution_count": 17,
     "metadata": {},
     "output_type": "execute_result"
    }
   ],
   "source": [
    "# converting series into dictionary model\n",
    "hall_dict = hall_ticket.to_dict()\n",
    "hall_dict"
   ]
  },
  {
   "cell_type": "code",
   "execution_count": 19,
   "id": "b75eac17-f5c8-4eb0-8a35-f97c6807ca94",
   "metadata": {},
   "outputs": [
    {
     "data": {
      "text/plain": [
       "G.Manikanta(mammu)    2281151018\n",
       "G.prudivi             2281151019\n",
       "G.Vijaya_Durga_Rao    2281151020\n",
       "G.Tirumala            2281151021\n",
       "dtype: int64"
      ]
     },
     "execution_count": 19,
     "metadata": {},
     "output_type": "execute_result"
    }
   ],
   "source": [
    "# converting dictionary model into series\n",
    "hall_series = Series(hall_dict)\n",
    "hall_series"
   ]
  },
  {
   "cell_type": "code",
   "execution_count": 21,
   "id": "d11ec8f1-4268-4850-ab19-2d164e60bfec",
   "metadata": {},
   "outputs": [],
   "source": [
    "names = ['G.Manikanta(mammu)','G.Vijaya_Durga_Rao','G.Tirumala','G.prudivi','syamala']"
   ]
  },
  {
   "cell_type": "code",
   "execution_count": 38,
   "id": "9e10ab0a-fa41-41b7-ad79-fa5e6b993379",
   "metadata": {},
   "outputs": [
    {
     "data": {
      "text/plain": [
       "G.Manikanta(mammu)    2281151018\n",
       "G.Vijaya_Durga_Rao    2281151020\n",
       "G.Tirumala            2281151021\n",
       "G.prudivi             2281151019\n",
       "syamala                        0\n",
       "dtype: int64"
      ]
     },
     "execution_count": 38,
     "metadata": {},
     "output_type": "execute_result"
    }
   ],
   "source": [
    "obj2 = Series(hall_series,index=names).fillna(0).astype('int64')\n",
    "obj2"
   ]
  },
  {
   "cell_type": "code",
   "execution_count": 40,
   "id": "7d5b8d97-c5ad-452e-9066-4eadd55ffbd0",
   "metadata": {},
   "outputs": [
    {
     "data": {
      "text/plain": [
       "G.Manikanta(mammu)    False\n",
       "G.Vijaya_Durga_Rao    False\n",
       "G.Tirumala            False\n",
       "G.prudivi             False\n",
       "syamala               False\n",
       "dtype: bool"
      ]
     },
     "execution_count": 40,
     "metadata": {},
     "output_type": "execute_result"
    }
   ],
   "source": [
    "pd.isnull(obj2)"
   ]
  },
  {
   "cell_type": "code",
   "execution_count": 42,
   "id": "11e74f64-cdd9-4781-adae-f582c608e78b",
   "metadata": {},
   "outputs": [
    {
     "data": {
      "text/plain": [
       "G.Manikanta(mammu)    True\n",
       "G.Vijaya_Durga_Rao    True\n",
       "G.Tirumala            True\n",
       "G.prudivi             True\n",
       "syamala               True\n",
       "dtype: bool"
      ]
     },
     "execution_count": 42,
     "metadata": {},
     "output_type": "execute_result"
    }
   ],
   "source": [
    "pd.notnull(obj2)"
   ]
  },
  {
   "cell_type": "code",
   "execution_count": 44,
   "id": "6c80efc5-6022-4d6e-8ba2-1ee802fef24d",
   "metadata": {},
   "outputs": [
    {
     "data": {
      "text/plain": [
       "G.Manikanta(mammu)    2281151018\n",
       "G.Vijaya_Durga_Rao    2281151020\n",
       "G.Tirumala            2281151021\n",
       "G.prudivi             2281151019\n",
       "syamala                        0\n",
       "Name: hall ticket numbers and names, dtype: int64"
      ]
     },
     "execution_count": 44,
     "metadata": {},
     "output_type": "execute_result"
    }
   ],
   "source": [
    "obj2.name = \"hall ticket numbers and names\"\n",
    "obj2"
   ]
  },
  {
   "cell_type": "code",
   "execution_count": 46,
   "id": "4cdd595b-68ce-4ca8-91d7-309310fc4b15",
   "metadata": {},
   "outputs": [
    {
     "data": {
      "text/plain": [
       "student_names\n",
       "G.Manikanta(mammu)    2281151018\n",
       "G.Vijaya_Durga_Rao    2281151020\n",
       "G.Tirumala            2281151021\n",
       "G.prudivi             2281151019\n",
       "syamala                        0\n",
       "Name: hall ticket numbers and names, dtype: int64"
      ]
     },
     "execution_count": 46,
     "metadata": {},
     "output_type": "execute_result"
    }
   ],
   "source": [
    "obj2.index.name = \"student_names\"\n",
    "obj2"
   ]
  },
  {
   "cell_type": "code",
   "execution_count": null,
   "id": "7d54fb42-f451-400b-8da9-e826b2d26cb2",
   "metadata": {},
   "outputs": [],
   "source": []
  },
  {
   "cell_type": "code",
   "execution_count": null,
   "id": "bcd72601-fc88-40b6-a112-dc7bdc75ac6e",
   "metadata": {},
   "outputs": [],
   "source": []
  }
 ],
 "metadata": {
  "kernelspec": {
   "display_name": "Python 3 (ipykernel)",
   "language": "python",
   "name": "python3"
  },
  "language_info": {
   "codemirror_mode": {
    "name": "ipython",
    "version": 3
   },
   "file_extension": ".py",
   "mimetype": "text/x-python",
   "name": "python",
   "nbconvert_exporter": "python",
   "pygments_lexer": "ipython3",
   "version": "3.12.4"
  }
 },
 "nbformat": 4,
 "nbformat_minor": 5
}
