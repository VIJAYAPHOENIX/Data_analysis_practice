{
 "cells": [
  {
   "cell_type": "code",
   "execution_count": 1,
   "id": "032a97a6-3755-4eea-8fdb-0a8a2dacccb2",
   "metadata": {},
   "outputs": [],
   "source": [
    "import numpy as np \n",
    "import pandas as pd \n",
    "from pandas import Series,DataFrame"
   ]
  },
  {
   "cell_type": "code",
   "execution_count": 3,
   "id": "e3df1e61-5c31-490d-a0e2-8467e2a2832b",
   "metadata": {},
   "outputs": [],
   "source": [
    "sr = Series\n",
    "df = DataFrame"
   ]
  },
  {
   "cell_type": "code",
   "execution_count": 7,
   "id": "3f07d5c0-f1d3-4a94-b84e-5a184a3595a7",
   "metadata": {},
   "outputs": [
    {
     "data": {
      "text/plain": [
       "0    1\n",
       "1    2\n",
       "2    3\n",
       "3    4\n",
       "4    1\n",
       "5    2\n",
       "6    3\n",
       "7    4\n",
       "dtype: int64"
      ]
     },
     "execution_count": 7,
     "metadata": {},
     "output_type": "execute_result"
    }
   ],
   "source": [
    "ser1 = sr([1,2,3,4,1,2,3,4])\n",
    "ser1"
   ]
  },
  {
   "cell_type": "code",
   "execution_count": 9,
   "id": "6e7cb5a7-6f16-4261-ba69-ff192c3aadb5",
   "metadata": {},
   "outputs": [
    {
     "data": {
      "text/plain": [
       "0    1.0\n",
       "1    NaN\n",
       "2    3.0\n",
       "3    4.0\n",
       "4    1.0\n",
       "5    NaN\n",
       "6    3.0\n",
       "7    4.0\n",
       "dtype: float64"
      ]
     },
     "execution_count": 9,
     "metadata": {},
     "output_type": "execute_result"
    }
   ],
   "source": [
    "ser1.replace(2,np.nan)"
   ]
  },
  {
   "cell_type": "code",
   "execution_count": 11,
   "id": "c00c4ee1-b36f-4098-a28d-c7f8e40e9506",
   "metadata": {},
   "outputs": [
    {
     "data": {
      "text/plain": [
       "0    200\n",
       "1      2\n",
       "2    400\n",
       "3      4\n",
       "4    200\n",
       "5      2\n",
       "6    400\n",
       "7      4\n",
       "dtype: int64"
      ]
     },
     "execution_count": 11,
     "metadata": {},
     "output_type": "execute_result"
    }
   ],
   "source": [
    "ser1.replace([1,3],[200,400])"
   ]
  },
  {
   "cell_type": "code",
   "execution_count": 13,
   "id": "8828444b-b3de-484b-8cdd-f563421c88ac",
   "metadata": {},
   "outputs": [
    {
     "data": {
      "text/plain": [
       "0    100\n",
       "1    200\n",
       "2      3\n",
       "3    400\n",
       "4    100\n",
       "5    200\n",
       "6      3\n",
       "7    400\n",
       "dtype: int64"
      ]
     },
     "execution_count": 13,
     "metadata": {},
     "output_type": "execute_result"
    }
   ],
   "source": [
    "# replacing values by using dictionary\n",
    "ser1.replace({4:400,1:100,2:200})"
   ]
  },
  {
   "cell_type": "code",
   "execution_count": null,
   "id": "d8bfdb35-a082-4112-83de-c51b23e11f95",
   "metadata": {},
   "outputs": [],
   "source": []
  }
 ],
 "metadata": {
  "kernelspec": {
   "display_name": "Python 3 (ipykernel)",
   "language": "python",
   "name": "python3"
  },
  "language_info": {
   "codemirror_mode": {
    "name": "ipython",
    "version": 3
   },
   "file_extension": ".py",
   "mimetype": "text/x-python",
   "name": "python",
   "nbconvert_exporter": "python",
   "pygments_lexer": "ipython3",
   "version": "3.12.4"
  }
 },
 "nbformat": 4,
 "nbformat_minor": 5
}
