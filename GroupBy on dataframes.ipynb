{
 "cells": [
  {
   "cell_type": "code",
   "execution_count": null,
   "id": "aeb1ba62-fc38-4b3e-bd94-12142a5d0771",
   "metadata": {},
   "outputs": [],
   "source": [
    "import numpy as np\n",
    "import pandas as pd\n",
    "from pandas import Series,DataFrame"
   ]
  },
  {
   "cell_type": "code",
   "execution_count": null,
   "id": "1ed691bd-5302-448d-83a6-6c217b330906",
   "metadata": {},
   "outputs": [],
   "source": [
    "dframe=DataFrame({'k1':['X','X','Y','Y','Z'],\n",
    "                 'k2':['alpha','beta','alpha','beta','alpha'],\n",
    "                 'dataset1':np.random.randn(5),\n",
    "                 'dataset2':np.random.randn(5)})\n",
    "dframe"
   ]
  },
  {
   "cell_type": "code",
   "execution_count": null,
   "id": "2246731b-89dc-45db-8c91-59b4ee44c71f",
   "metadata": {},
   "outputs": [],
   "source": [
    "group1 = dframe['dataset1'].groupby(dframe['k1'])"
   ]
  },
  {
   "cell_type": "code",
   "execution_count": null,
   "id": "0d937e10-d404-4fff-b320-48ed0125b5d7",
   "metadata": {},
   "outputs": [],
   "source": [
    "group1"
   ]
  },
  {
   "cell_type": "code",
   "execution_count": null,
   "id": "a3ab9ce7-0b84-4dbb-8f45-f38c81797e40",
   "metadata": {},
   "outputs": [],
   "source": [
    "group1.mean()"
   ]
  },
  {
   "cell_type": "code",
   "execution_count": null,
   "id": "17ff5de2-2dcf-4484-b4a8-a4dc4e69ce7b",
   "metadata": {},
   "outputs": [],
   "source": [
    "cities = np.array(['HYD','JP','JP','HYD','HYD'])\n",
    "\n",
    "month = np.array(['JAN','FEB','JAN','FEB','JAN'])"
   ]
  },
  {
   "cell_type": "code",
   "execution_count": null,
   "id": "58da57ed-00c0-423b-8325-423bf2b776c0",
   "metadata": {},
   "outputs": [],
   "source": [
    "dframe['dataset1'].groupby([cities,month]).mean()"
   ]
  },
  {
   "cell_type": "code",
   "execution_count": null,
   "id": "8ab2b824-eaac-4965-afd5-1c405e100667",
   "metadata": {},
   "outputs": [],
   "source": [
    "dframe"
   ]
  },
  {
   "cell_type": "code",
   "execution_count": null,
   "id": "0eb2bf82-3f12-44fb-a97b-a915f0da0407",
   "metadata": {},
   "outputs": [],
   "source": [
    "dframe.groupby('k1').mean()"
   ]
  },
  {
   "cell_type": "code",
   "execution_count": null,
   "id": "633988a9-7be2-4366-95de-7c0a7bed8b17",
   "metadata": {},
   "outputs": [],
   "source": [
    "dframe.dtypes"
   ]
  },
  {
   "cell_type": "code",
   "execution_count": null,
   "id": "0680ec9b-9b74-40d7-aa55-7f2e60d73291",
   "metadata": {},
   "outputs": [],
   "source": [
    "numerical = dframe.select_dtypes(include='number').columns\n",
    "\n",
    "result = dframe.groupby(['k1'])[numerical].mean()"
   ]
  },
  {
   "cell_type": "code",
   "execution_count": null,
   "id": "c37bc95d-c765-4a08-a227-4e3f8bd7db99",
   "metadata": {},
   "outputs": [],
   "source": [
    "result"
   ]
  },
  {
   "cell_type": "code",
   "execution_count": null,
   "id": "fcc8ecaa-fb35-4aae-b309-8f20984f029d",
   "metadata": {},
   "outputs": [],
   "source": [
    "dframe.groupby(['k1','k2']).mean()"
   ]
  },
  {
   "cell_type": "code",
   "execution_count": null,
   "id": "8fe33cb0-8ca6-47de-ab55-ac33e47d48d1",
   "metadata": {},
   "outputs": [],
   "source": [
    "# elements in each and every group\n",
    "dframe.groupby(['k1']).size()"
   ]
  },
  {
   "cell_type": "code",
   "execution_count": null,
   "id": "d71a2248-b97d-468d-b64a-4f988a28b14d",
   "metadata": {},
   "outputs": [],
   "source": [
    "for name ,group in dframe.groupby('k1'):\n",
    "    print(\"this is the %s group\" %name)\n",
    "    print( group)\n",
    "    print( '\\n')"
   ]
  },
  {
   "cell_type": "code",
   "execution_count": null,
   "id": "3779ca94-a3e0-4f2a-b881-14d1e2ae05c9",
   "metadata": {},
   "outputs": [],
   "source": [
    "for(k1,k2),group in dframe.groupby(['k1','k2']):\n",
    "    print(\"key1 = %s key2 = %s\" %(k1,k2))\n",
    "    print(group)\n",
    "    print('\\n')"
   ]
  },
  {
   "cell_type": "code",
   "execution_count": null,
   "id": "b71f0ceb-975d-410e-9d32-228d14ae299c",
   "metadata": {},
   "outputs": [],
   "source": [
    "group_dict = dict(list(dframe.groupby('k1')))"
   ]
  },
  {
   "cell_type": "code",
   "execution_count": null,
   "id": "a3969701-f68c-43ed-b3dc-dca5b5fb4307",
   "metadata": {},
   "outputs": [],
   "source": [
    "group_dict"
   ]
  },
  {
   "cell_type": "code",
   "execution_count": null,
   "id": "8c7811e4-f1cc-45a7-87c0-10d2caa30ed5",
   "metadata": {},
   "outputs": [],
   "source": [
    "group_dict['X']"
   ]
  },
  {
   "cell_type": "code",
   "execution_count": null,
   "id": "4e301cc4-d362-4eee-aaef-286fa65cd64c",
   "metadata": {},
   "outputs": [],
   "source": [
    "group_dict_axis1 = dict(list(dframe.groupby(dframe.dtypes,axis=1)))"
   ]
  },
  {
   "cell_type": "code",
   "execution_count": null,
   "id": "d20b02ec-c9e3-4646-bb7c-c6c342eba8ad",
   "metadata": {},
   "outputs": [],
   "source": [
    "dframe_further=dframe.T.groupby(dframe.dtypes)\n",
    "dframe_further"
   ]
  },
  {
   "cell_type": "code",
   "execution_count": null,
   "id": "f26bd052-57c4-411c-8fd8-2cd329cb2c30",
   "metadata": {},
   "outputs": [],
   "source": [
    "group_dict_axis1"
   ]
  },
  {
   "cell_type": "code",
   "execution_count": null,
   "id": "80c67b88-7a3c-49f8-92a3-bede0061f5bb",
   "metadata": {},
   "outputs": [],
   "source": [
    "dataset2_group = dframe.groupby(['k1','k2'])['dataset2']\n",
    "dataset2_group.mean()"
   ]
  },
  {
   "cell_type": "code",
   "execution_count": null,
   "id": "82cded8f-3d1e-4ddf-9113-d47a756739a2",
   "metadata": {},
   "outputs": [],
   "source": []
  }
 ],
 "metadata": {
  "kernelspec": {
   "display_name": "Python 3 (ipykernel)",
   "language": "python",
   "name": "python3"
  },
  "language_info": {
   "codemirror_mode": {
    "name": "ipython",
    "version": 3
   },
   "file_extension": ".py",
   "mimetype": "text/x-python",
   "name": "python",
   "nbconvert_exporter": "python",
   "pygments_lexer": "ipython3",
   "version": "3.12.4"
  }
 },
 "nbformat": 4,
 "nbformat_minor": 5
}
